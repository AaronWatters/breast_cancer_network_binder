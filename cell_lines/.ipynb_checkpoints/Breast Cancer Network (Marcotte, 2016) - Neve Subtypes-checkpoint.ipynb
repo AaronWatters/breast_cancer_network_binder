{
 "cells": [
  {
   "cell_type": "markdown",
   "metadata": {},
   "source": [
    "# Breast Cancer Transcriptional Regulatory Network\n",
    "\n",
    "**Expression Data: ** \n",
    "- 82 cell lines  \n",
    "- STAR + featureCounts, variance stabilizing transformation from DESeq2.\n",
    "\n",
    "**Priors: ** \n",
    "- TRRUST, http://www.grnpedia.org/trrust/\n",
    "- Chromatin State data from Reg2Map, most recent analysis of human roadmap epigenomics project \n",
    "    - https://personal.broadinstitute.org/meuleman/reg2map/HoneyBadger2_release/)\n",
    "    - DNaseI regions selected with -log10(p) >= 10, promoters and enhancers annotated with ChromHMM\n",
    "    - Samples \n",
    "        - E027: Breast Myoepithelial Primary Cells\n",
    "        - E028: Breast variant Human Mammary Epithelial Cells (vHMEC)\n",
    "        - E119: HMEC Mammary Epithelial Primary Cells\n",
    "\n",
    "**Inferelator: **\n",
    "- Bayesian Best Subset Regresstion (BBSR)\n",
    "- TFA and prior weight set to 1.1\n",
    "- Conservative choice of regulators\n",
    "    - TF activity in TFcheckpoint database (~1K)\n",
    "    - TF in prior (360 chrom, 281 TRRUST)\n",
    "    - TF is expressed (at least 10 counts in more than one sample)"
   ]
  },
  {
   "cell_type": "markdown",
   "metadata": {},
   "source": [
    "## Networks by Subtype\n",
    "\n",
    "For each Neve subtype, we plot essential genes and immediate neighbors (gene lists from table S3B, Marcotte et al., 2016).\n",
    "\n",
    "Also, we consider only edges that were picked up in at least 70% of bootstraps."
   ]
  },
  {
   "cell_type": "code",
   "execution_count": null,
   "metadata": {
    "collapsed": false
   },
   "outputs": [
    {
     "name": "stdout",
     "output_type": "stream",
     "text": [
      "('Reading network', 'network_breast_cancer_Marcotte2016_BBSR1.1_combinedPriors_TfsPriors.tsv')\n",
      "('Loading saved layout', 'network_breast_cancer_Marcotte2016_BBSR1.1_combinedPriors_TfsPriors.tsv.layout.json')\n",
      "Omitting edges, using canvas, and fast layout default because the network is large\n"
     ]
    }
   ],
   "source": [
    "import sys\n",
    "if \"..\" not in sys.path:\n",
    "    sys.path.append(\"..\")\n",
    "    \n",
    "from jp_gene_viz import dNetwork\n",
    "from jp_gene_viz import multiple_network\n",
    "\n",
    "dNetwork.load_javascript_support()\n",
    "\n",
    "def network_config(N, gene_list_file, title, threshhold):\n",
    "    N.threshhold_slider.value = threshhold\n",
    "    N.apply_click(None)\n",
    "    geneIn = open(gene_list_file)\n",
    "    gene_list = []\n",
    "    for gene in geneIn:\n",
    "        gene_list.append(gene.strip('\\n').lower())\n",
    "    geneIn.close()\n",
    "    N.pattern_text.value = ' '.join(gene_list)\n",
    "    N.match_click(None)\n",
    "    N.expand_click(None)\n",
    "    N.layout_dropdown.value = 'fruchterman_reingold'\n",
    "    N.layout_click(None)\n",
    "    N.labels_button.value = True\n",
    "    N.labels_click(None)\n",
    "    N.title_html.value = title\n",
    "    return(N)\n",
    "\n",
    "network_file = 'network_breast_cancer_Marcotte2016_BBSR1.1_combinedPriors_TfsPriors.tsv'\n",
    "\n",
    "N1 = dNetwork.display_network(network_file, show = False)\n",
    "N1 = network_config(N1, 'basal_A.txt', 'basal A', 13)\n",
    "\n",
    "N2 = dNetwork.display_network(network_file, show = False)\n",
    "N2 = network_config(N2, 'basal_B.txt', 'basal B', 13)\n",
    "\n",
    "N3 = dNetwork.display_network(network_file, show = False)\n",
    "N3 = network_config(N3, 'Her2.txt', 'HER2', 13)\n",
    "\n",
    "N4 = dNetwork.display_network(network_file, show = False)\n",
    "N4 = network_config(N4, 'non-Her2.txt', 'luminal (non-HER2)', 13)"
   ]
  },
  {
   "cell_type": "code",
   "execution_count": null,
   "metadata": {
    "collapsed": false
   },
   "outputs": [],
   "source": [
    "M = multiple_network.MultipleNetworks([[N1], [N2], [N3], [N4]])\n",
    "M.width_slider.value = 1000\n",
    "M.show()"
   ]
  },
  {
   "cell_type": "code",
   "execution_count": null,
   "metadata": {
    "collapsed": true
   },
   "outputs": [],
   "source": []
  }
 ],
 "metadata": {
  "kernelspec": {
   "display_name": "Python 2",
   "language": "python",
   "name": "python2"
  },
  "language_info": {
   "codemirror_mode": {
    "name": "ipython",
    "version": 2
   },
   "file_extension": ".py",
   "mimetype": "text/x-python",
   "name": "python",
   "nbconvert_exporter": "python",
   "pygments_lexer": "ipython2",
   "version": "2.7.12"
  },
  "widgets": {
   "state": {
    "cbe9ad552d3b4ea19b3a6313e3438043": {
     "views": [
      {
       "cell_index": 3
      }
     ]
    }
   },
   "version": "1.2.0"
  }
 },
 "nbformat": 4,
 "nbformat_minor": 0
}
